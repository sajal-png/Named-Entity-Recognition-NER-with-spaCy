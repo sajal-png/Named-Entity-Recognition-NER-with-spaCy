{
 "cells": [
  {
   "cell_type": "markdown",
   "metadata": {},
   "source": [
    "# Named Entity Recognition (NER) with spaCy\n",
    "\n",
    "In this notebook, I have implemented a Named Entity Recognition (NER) model using spaCy.I have used the blank spaCy model for English and demonstrated how to make a custom NER model and train it.\n",
    "\n",
    "## Installation and Setup\n",
    "\n",
    "First, ensure you have spaCy installed. \n",
    "Run the following commands in your Jupyter Notebook:\n",
    "%pip install spacy \n",
    "\n"
   ]
  },
  {
   "cell_type": "code",
   "execution_count": 1,
   "metadata": {},
   "outputs": [],
   "source": [
    "# Import necessary libraries\n",
    "import spacy\n",
    "from spacy.training import Example\n",
    "import random"
   ]
  },
  {
   "cell_type": "code",
   "execution_count": 2,
   "metadata": {},
   "outputs": [
    {
     "name": "stdout",
     "output_type": "stream",
     "text": [
      "NER Component Labels: ('FAC', 'GPE', 'LOC', 'MONEY', 'ORG', 'PERSON')\n"
     ]
    }
   ],
   "source": [
    "# Initializing a blank English model\n",
    "nlp = spacy.blank(\"en\")\n",
    "\n",
    "# Creating the NER pipeline component\n",
    "ner = nlp.add_pipe(\"ner\")\n",
    "\n",
    "# Defining the labels\n",
    "labels = [\"ORG\", \"GPE\", \"MONEY\", \"FAC\", \"PERSON\", \"LOC\"]\n",
    "for label in labels:\n",
    "    ner.add_label(label)\n",
    "\n",
    "print(\"NER Component Labels:\", ner.labels)"
   ]
  },
  {
   "cell_type": "code",
   "execution_count": 3,
   "metadata": {},
   "outputs": [],
   "source": [
    "# Creating the training data (text, annotations)\n",
    "TRAIN_DATA = [\n",
    "    (\"Apple is looking at buying U.K. startup for $1 billion\", {\n",
    "        \"entities\": [(0, 5, \"ORG\"), (25, 30, \"GPE\"), (43, 53, \"MONEY\")] \n",
    "    }),\n",
    "    (\"San Francisco considers banning sidewalk delivery robots\", {\n",
    "        \"entities\": [(0, 13, \"GPE\")]\n",
    "    }),\n",
    "    (\"Uber is hiring a new data scientist\", {\n",
    "        \"entities\": [(0, 4, \"ORG\")]\n",
    "    }),\n",
    "    (\"The Golden Gate Bridge \", {\n",
    "        \"entities\": [(4, 23, \"FAC\")]\n",
    "    }),\n",
    "    (\"Microsoft acquired LinkedIn for $26.2 billion\", {\n",
    "        \"entities\": [(0, 9, \"ORG\"), (18, 27, \"ORG\"), (31, 44, \"MONEY\")] \n",
    "    }),\n",
    "    (\"NASA plans new mission to Mars\", {\n",
    "        \"entities\": [(0, 4, \"ORG\"), (22, 26, \"LOC\")]\n",
    "    }),\n",
    "    (\"Elon Musk is the CEO of SpaceX\", {\n",
    "        \"entities\": [(0, 9, \"PERSON\"), (20, 26, \"ORG\")]\n",
    "    }),\n",
    "    (\"Amazon is expanding its operations in India\", {\n",
    "        \"entities\": [(0, 6, \"ORG\"), (37, 42, \"GPE\")]  \n",
    "    }),\n",
    "     (\"$2 billion \", {\n",
    "        \"entities\": [(0, 10, \"MONEY\")]  \n",
    "    }),\n",
    "    (\"India \", {\n",
    "        \"entities\": [(0, 5, \"GPE\")]  \n",
    "    })\n",
    "]"
   ]
  },
  {
   "cell_type": "code",
   "execution_count": 5,
   "metadata": {},
   "outputs": [
    {
     "name": "stdout",
     "output_type": "stream",
     "text": [
      "Epoch 0 - Losses: {'ner': 40.65151465497911}\n",
      "Epoch 1 - Losses: {'ner': 23.448045816505328}\n",
      "Epoch 2 - Losses: {'ner': 13.299232352014542}\n",
      "Epoch 3 - Losses: {'ner': 12.874518994062331}\n",
      "Epoch 4 - Losses: {'ner': 9.561684780608573}\n",
      "Epoch 5 - Losses: {'ner': 6.453637711702084}\n",
      "Epoch 6 - Losses: {'ner': 5.655721923847545}\n",
      "Epoch 7 - Losses: {'ner': 5.098236141501728}\n",
      "Epoch 8 - Losses: {'ner': 4.666470472041175}\n",
      "Epoch 9 - Losses: {'ner': 5.2324986751278555}\n",
      "Epoch 10 - Losses: {'ner': 25.301663676451966}\n",
      "Epoch 11 - Losses: {'ner': 7.955636018965231}\n",
      "Epoch 12 - Losses: {'ner': 3.367103139413463}\n",
      "Epoch 13 - Losses: {'ner': 3.152870580628284}\n",
      "Epoch 14 - Losses: {'ner': 3.033407881785544}\n",
      "Epoch 15 - Losses: {'ner': 2.331697389661361}\n",
      "Epoch 16 - Losses: {'ner': 1.416596895025783}\n",
      "Epoch 17 - Losses: {'ner': 2.7620315660385444}\n",
      "Epoch 18 - Losses: {'ner': 0.7548047652242961}\n",
      "Epoch 19 - Losses: {'ner': 0.28635609202960477}\n",
      "Epoch 20 - Losses: {'ner': 0.0051820196905337365}\n",
      "Epoch 21 - Losses: {'ner': 0.0063615755420368195}\n",
      "Epoch 22 - Losses: {'ner': 0.000642867906108283}\n",
      "Epoch 23 - Losses: {'ner': 0.027779207849038864}\n",
      "Epoch 24 - Losses: {'ner': 0.00019139782644569706}\n"
     ]
    }
   ],
   "source": [
    "# Initializing the optimizer\n",
    "optimizer = nlp.begin_training()\n",
    "\n",
    "# Training loop\n",
    "for epoch in range(25):\n",
    "    random.shuffle(TRAIN_DATA)\n",
    "    losses = {}\n",
    "    for text, annotations in TRAIN_DATA:\n",
    "        doc = nlp.make_doc(text)\n",
    "        example = Example.from_dict(doc, annotations)\n",
    "        nlp.update([example], drop=0.3, losses=losses)\n",
    "    print(f\"Epoch {epoch} - Losses: {losses}\")"
   ]
  },
  {
   "cell_type": "code",
   "execution_count": 6,
   "metadata": {},
   "outputs": [
    {
     "name": "stdout",
     "output_type": "stream",
     "text": [
      "\n",
      "Text: Twitter, Apple is looking at buying a startup in San Francisco for $1 billion\n",
      "Recognized Entities:\n",
      "Twitter (ORG)\n",
      "Apple (ORG)\n",
      "San Francisco (GPE)\n",
      "\n",
      "Text: Microsoft is launching a new product\n",
      "Recognized Entities:\n",
      "Microsoft (ORG)\n"
     ]
    }
   ],
   "source": [
    "test_texts = [\n",
    "    \"Twitter, Apple is looking at buying a startup in San Francisco for $1 billion\",\n",
    "    \"Microsoft is launching a new product\",\n",
    "]\n",
    "\n",
    "# Testing the model\n",
    "for test_text in test_texts:\n",
    "    doc = nlp(test_text)\n",
    "    print(f\"\\nText: {test_text}\")\n",
    "    print(\"Recognized Entities:\")\n",
    "    for ent in doc.ents:\n",
    "        print(f\"{ent.text} ({ent.label_})\")"
   ]
  }
 ],
 "metadata": {
  "kernelspec": {
   "display_name": "Python 3",
   "language": "python",
   "name": "python3"
  },
  "language_info": {
   "codemirror_mode": {
    "name": "ipython",
    "version": 3
   },
   "file_extension": ".py",
   "mimetype": "text/x-python",
   "name": "python",
   "nbconvert_exporter": "python",
   "pygments_lexer": "ipython3",
   "version": "3.11.3"
  }
 },
 "nbformat": 4,
 "nbformat_minor": 2
}
